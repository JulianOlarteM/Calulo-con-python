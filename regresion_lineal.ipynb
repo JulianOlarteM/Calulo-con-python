{
  "nbformat": 4,
  "nbformat_minor": 0,
  "metadata": {
    "colab": {
      "name": "regresion_lineal.ipynb",
      "provenance": [],
      "authorship_tag": "ABX9TyOFXndES8OIfCKLIpYwxILI",
      "include_colab_link": true
    },
    "kernelspec": {
      "name": "python3",
      "display_name": "Python 3"
    }
  },
  "cells": [
    {
      "cell_type": "markdown",
      "metadata": {
        "id": "view-in-github",
        "colab_type": "text"
      },
      "source": [
        "<a href=\"https://colab.research.google.com/github/JulianOlarteM/Calulo-con-python/blob/main/regresion_lineal.ipynb\" target=\"_parent\"><img src=\"https://colab.research.google.com/assets/colab-badge.svg\" alt=\"Open In Colab\"/></a>"
      ]
    },
    {
      "cell_type": "code",
      "metadata": {
        "colab": {
          "base_uri": "https://localhost:8080/"
        },
        "id": "oPefNY98OHp8",
        "outputId": "1b4e80c1-c37d-4cb3-8a45-99bafee75eb0"
      },
      "source": [
        "import numpy as np\n",
        "\n",
        "x = np.array([0,1,2,3,4,5,6,7,8])\n",
        "y = np.array([0,2,4,5,4,5,8,7,9])\n",
        "\n",
        "coefficientes = np.polyfit(x, y , 1)\n",
        "print(coefficientes)\n"
      ],
      "execution_count": null,
      "outputs": [
        {
          "output_type": "stream",
          "text": [
            "[0.98333333 0.95555556]\n"
          ],
          "name": "stdout"
        }
      ]
    },
    {
      "cell_type": "code",
      "metadata": {
        "id": "MeUM-w_JPFnq"
      },
      "source": [
        "m = coefficientes[0]\n",
        "b = coefficientes[1]\n",
        "est_y = (m * x) + b\n"
      ],
      "execution_count": null,
      "outputs": []
    },
    {
      "cell_type": "code",
      "metadata": {
        "colab": {
          "base_uri": "https://localhost:8080/",
          "height": 264
        },
        "id": "T7faSqgBPd28",
        "outputId": "9e131bfa-bff3-45ef-e82b-0e9d186b8642"
      },
      "source": [
        "import matplotlib.pyplot as plt\n",
        "plt.plot(x,est_y)\n",
        "plt.scatter(x,y)\n",
        "plt.show()"
      ],
      "execution_count": null,
      "outputs": [
        {
          "output_type": "display_data",
          "data": {
            "image/png": "[encoded data removed]",
            "text/plain": [
              "<Figure size 432x288 with 1 Axes>"
            ]
          },
          "metadata": {
            "tags": [],
            "needs_background": "light"
          }
        }
      ]
    }
  ]
}